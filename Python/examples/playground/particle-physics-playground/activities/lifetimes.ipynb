{
 "metadata": {
  "name": "",
  "signature": "sha256:40e281b39834860ff9fdb51c6c456cafa4ab4817d6adb554a14a0ae096bb0305"
 },
 "nbformat": 3,
 "nbformat_minor": 0,
 "worksheets": [
  {
   "cells": [
    {
     "cell_type": "heading",
     "level": 1,
     "metadata": {},
     "source": [
      "Lifetimes"
     ]
    },
    {
     "cell_type": "markdown",
     "metadata": {},
     "source": [
      "<h3>Learning goals</h3>\n",
      "<ul>\n",
      "    <li>Relativistic kinematics.\n",
      "    <li>Standard model particles.\n",
      "    <li>Special Relativity.\n",
      "</ul>"
     ]
    },
    {
     "cell_type": "markdown",
     "metadata": {},
     "source": [
      "<b>Background</b>\n",
      "\n",
      "Every particle is unique. They each have different masses, lifetimes, decay methods and many other properties. \n",
      "\n",
      "To find the distance a particle travels in one lifetime, you need to know the lifetime of the particle and the speed of the particle. The formula to find the distance travelled in one lifetime is $ d= vt. $ Where $v$ is the speed of light and $t$ is the lifetime of the particle. In many particle physics experiments, the particles are moving close to (but always less than!) the speed of light. \n",
      "\n",
      "For purposes of this exercise, let's assume that they are traveling at the the speed of light: $3\\times10^8$  m/s$^2$. \n",
      "\n",
      "<i>If you don't like the idea of them traveling at the speed of light, feel free to change the velocity below to 0.99c<i>  &#x1F609;"
     ]
    },
    {
     "cell_type": "markdown",
     "metadata": {},
     "source": [
      "<b>Let's code!</b>\n",
      "\n",
      "Here is a sample code that creates a table of the lifetime and distance traveled in one lifetime for three different particles."
     ]
    },
    {
     "cell_type": "code",
     "collapsed": false,
     "input": [
      "particles = [\"B+/-\",\"D+/-\",\"J/Psi\"]\n",
      "\n",
      "lifetimes = [1.64e-12,1.4e-12,7e-21]\n",
      "\n",
      "c = 3e8 # m/s\n",
      "\n",
      "v = c\n",
      "\n",
      "for p,l in zip(particles,lifetimes):\n",
      "    distance = v*l\n",
      "    print \"%-5s  lifetime=%4.2f s     distance traveled=%4.2e m\" % (p,l,distance)"
     ],
     "language": "python",
     "metadata": {},
     "outputs": [
      {
       "output_type": "stream",
       "stream": "stdout",
       "text": [
        "B+/-   lifetime=0.00 s     distance traveled=4.92e-04 m\n",
        "D+/-   lifetime=0.00 s     distance traveled=4.20e-04 m\n",
        "J/Psi  lifetime=0.00 s     distance traveled=2.10e-12 m\n"
       ]
      }
     ],
     "prompt_number": 8
    },
    {
     "cell_type": "markdown",
     "metadata": {},
     "source": [
      "<h3>Particles</h3>\n",
      "<ul>\n",
      "<li>$\\mu^\\pm$\n",
      "    <li>$\\tau^\\pm$\n",
      "    <li>$\\pi^\\pm$\n",
      "    <li>$\\pi^0$\n",
      "    <li>$K^\\pm$\n",
      "    <li>$K^0_{\\rm short}$\n",
      "    <li>$K^0_{\\rm long}$\n",
      "    <li>$D^\\pm$\n",
      "    <li>$B^\\pm$\n",
      "    <li>$B0$\n",
      "    <li>$J/ \\psi$\n",
      "    <li>$\\Upsilon(1S)$\n",
      "</ul>"
     ]
    },
    {
     "cell_type": "markdown",
     "metadata": {},
     "source": [
      "<h2><font color=\"red\">Challenge!</font></h2>\n",
      "\n",
      "Finish the table for every particle listed above with an output of the particles name, the lifetime, the mass, the distance travelled in one lifetime, the momentum, and how far the travel in one lifetime given different momentum.  "
     ]
    },
    {
     "cell_type": "code",
     "collapsed": false,
     "input": [
      "# Your code here"
     ],
     "language": "python",
     "metadata": {},
     "outputs": [],
     "prompt_number": 3
    },
    {
     "cell_type": "markdown",
     "metadata": {},
     "source": [
      "The scale of many modern physics detectors ranges from the order of centimeters to 10's of meters. Given that information, what particles do you think will actually live long enough to travel <i>through</i> parts of the detector?"
     ]
    },
    {
     "cell_type": "code",
     "collapsed": false,
     "input": [
      "# Your code here"
     ],
     "language": "python",
     "metadata": {},
     "outputs": []
    },
    {
     "cell_type": "markdown",
     "metadata": {},
     "source": [
      "Which particles will decay (on average) before they reach the detectors? This means that these particles have to be reconstructed from their decay products. \n"
     ]
    },
    {
     "cell_type": "code",
     "collapsed": false,
     "input": [
      "# Your code here"
     ],
     "language": "python",
     "metadata": {},
     "outputs": [],
     "prompt_number": 5
    },
    {
     "cell_type": "code",
     "collapsed": false,
     "input": [],
     "language": "python",
     "metadata": {},
     "outputs": []
    }
   ],
   "metadata": {}
  }
 ]
}